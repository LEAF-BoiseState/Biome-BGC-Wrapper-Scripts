{
 "cells": [
  {
   "cell_type": "code",
   "execution_count": 12,
   "metadata": {},
   "outputs": [],
   "source": [
    "import xarray as xr\n",
    "import numpy as np\n",
    "import matplotlib.pyplot as plt\n",
    "from osgeo import ogr\n",
    "from osgeo import osr\n",
    "\n",
    "Daymet_path = '/Users/lejoflores/data/daymet/'\n",
    "Daymet_name = 'tmax_1980-2018.nc'\n",
    "Daymet_file = Daymet_path + Daymet_name\n",
    "\n",
    "# Coordinates of Wyoming Big Sage site\n",
    "lati = 43.167545\n",
    "loni = -116.713205\n"
   ]
  },
  {
   "cell_type": "code",
   "execution_count": 17,
   "metadata": {},
   "outputs": [
    {
     "name": "stdout",
     "output_type": "stream",
     "text": [
      "PROJCS[\"North_America_Lambert_Conformal_Conic\",\n",
      "    GEOGCS[\"GCS_North_American_1983\",\n",
      "        DATUM[\"North_American_Datum_1983\",\n",
      "            SPHEROID[\"GRS_1980\",6378137,298.257222101]],\n",
      "        PRIMEM[\"Greenwich\",0],\n",
      "        UNIT[\"Degree\",0.017453292519943295]],\n",
      "    PROJECTION[\"Lambert_Conformal_Conic_2SP\"],\n",
      "    PARAMETER[\"False_Easting\",0],\n",
      "    PARAMETER[\"False_Northing\",0],\n",
      "    PARAMETER[\"Central_Meridian\",-96],\n",
      "    PARAMETER[\"Standard_Parallel_1\",20],\n",
      "    PARAMETER[\"Standard_Parallel_2\",60],\n",
      "    PARAMETER[\"Latitude_Of_Origin\",40],\n",
      "    UNIT[\"Meter\",1],\n",
      "    AUTHORITY[\"EPSG\",\"102009\"]]\n",
      "-1568336.2810487463 517641.5608380531\n"
     ]
    }
   ],
   "source": [
    "InSR = osr.SpatialReference()\n",
    "InSR.ImportFromEPSG(4326)       # WGS84/Geographic\n",
    "OutSR = osr.SpatialReference()\n",
    "OutSR.ImportFromEPSG(102009)     # WGS84 UTM Zone 56 South\n",
    "\n",
    "print(OutSR)\n",
    "\n",
    "Point = ogr.Geometry(ogr.wkbPoint)\n",
    "Point.AddPoint(loni,lati)             # use your coordinates here\n",
    "Point.AssignSpatialReference(InSR)    # tell the point what coordinates it's in\n",
    "Point.TransformTo(OutSR)              # project it to the out spatial reference\n",
    "print(Point.GetX(),Point.GetY())      # output projected X and Y coordinates"
   ]
  },
  {
   "cell_type": "code",
   "execution_count": 11,
   "metadata": {},
   "outputs": [
    {
     "name": "stdout",
     "output_type": "stream",
     "text": [
      "<xarray.Dataset>\n",
      "Dimensions:                  (nv: 2, time: 14235, x: 195, y: 238)\n",
      "Coordinates:\n",
      "  * x                        (x) float64 -1.411e+06 -1.41e+06 -1.409e+06 ...\n",
      "  * y                        (y) float64 3.06e+05 3.05e+05 3.04e+05 3.03e+05 ...\n",
      "  * time                     (time) datetime64[ns] 1980-01-01T12:00:00 ...\n",
      "    lat                      (y, x) float64 ...\n",
      "    lon                      (y, x) float64 ...\n",
      "Dimensions without coordinates: nv\n",
      "Data variables:\n",
      "    lambert_conformal_conic  int16 ...\n",
      "    yearday                  (time) int16 ...\n",
      "    tmax                     (time, y, x) float64 ...\n",
      "    time_bnds                (time, nv) float64 ...\n",
      "Attributes:\n",
      "    tileid:            11912\n",
      "    start_year:        1980\n",
      "    source:            Daymet Software Version 3.0\n",
      "    Version_software:  Daymet Software Version 3.0\n",
      "    Version_data:      Daymet Data Version 3.0\n",
      "    Conventions:       CF-1.6\n",
      "    citation:          Please see http://daymet.ornl.gov/ for current Daymet ...\n",
      "    references:        Please see http://daymet.ornl.gov/ for current informa...\n"
     ]
    }
   ],
   "source": [
    "ds = xr.open_dataset(Daymet_file)\n",
    "print(ds)"
   ]
  },
  {
   "cell_type": "code",
   "execution_count": 16,
   "metadata": {},
   "outputs": [
    {
     "name": "stdout",
     "output_type": "stream",
     "text": [
      "-1217250.0\n"
     ]
    }
   ],
   "source": [
    "print(ds['x'].values.max())"
   ]
  },
  {
   "cell_type": "code",
   "execution_count": 9,
   "metadata": {},
   "outputs": [
    {
     "name": "stdout",
     "output_type": "stream",
     "text": [
      "<xarray.DataArray 'lambert_conformal_conic' ()>\n",
      "array(-32767, dtype=int16)\n",
      "Attributes:\n",
      "    grid_mapping_name:              lambert_conformal_conic\n",
      "    longitude_of_central_meridian:  -100.0\n",
      "    latitude_of_projection_origin:  42.5\n",
      "    false_easting:                  0.0\n",
      "    false_northing:                 0.0\n",
      "    standard_parallel:              [ 25.  60.]\n"
     ]
    }
   ],
   "source": [
    "print(ds['lambert_conformal_conic'])"
   ]
  },
  {
   "cell_type": "code",
   "execution_count": null,
   "metadata": {},
   "outputs": [],
   "source": []
  }
 ],
 "metadata": {
  "kernelspec": {
   "display_name": "Python 3",
   "language": "python",
   "name": "python3"
  },
  "language_info": {
   "codemirror_mode": {
    "name": "ipython",
    "version": 3
   },
   "file_extension": ".py",
   "mimetype": "text/x-python",
   "name": "python",
   "nbconvert_exporter": "python",
   "pygments_lexer": "ipython3",
   "version": "3.6.4"
  }
 },
 "nbformat": 4,
 "nbformat_minor": 2
}
