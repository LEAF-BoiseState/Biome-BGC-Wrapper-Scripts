{
 "cells": [
  {
   "cell_type": "markdown",
   "metadata": {},
   "source": [
    "# Use `xarray` to extract a time series at a point\n",
    "## By: Lejo Flores\n",
    "## April 29, 2019\n",
    "\n",
    "This Jupyter notebook demonstrates how to use `xarray` to extract a time series of data at a single point specified by a given lat/long coordinate. In particular, we use the `xarray.Dataset.interp()` method to linearly interpolate our dataset to a given point. This example was based on the xarray documentation [found here](http://xarray.pydata.org/en/stable/interpolation.html#example) and by following the example provided in this [StackOverflow post](https://stackoverflow.com/questions/40256461/reading-time-series-from-netcdf-with-python).\n",
    "\n",
    "### 1. Import the libraries needed and define variables"
   ]
  },
  {
   "cell_type": "code",
   "execution_count": 1,
   "metadata": {},
   "outputs": [
    {
     "name": "stdout",
     "output_type": "stream",
     "text": [
      "\n",
      "Package version numbers:\n",
      "\n",
      "xarray version: 0.12.1\n",
      "numpy version: 1.16.3\n",
      "matplotlib version: 3.0.3\n",
      "osgeo version: 2.4.1\n",
      "pandas version: 0.24.2\n",
      "\n"
     ]
    }
   ],
   "source": [
    "import xarray as xr\n",
    "import numpy as np\n",
    "import matplotlib\n",
    "import matplotlib.pyplot as plt\n",
    "import osgeo\n",
    "import pandas\n",
    "\n",
    "from osgeo import ogr\n",
    "from osgeo import osr\n",
    "from pandas.plotting import register_matplotlib_converters # Needed to avoid matplotlib warning\n",
    "\n",
    "# Print versions of libraries used in this notebook for traceability\n",
    "print(\"\\nPackage version numbers:\\n\")\n",
    "print(\"xarray version: \" + xr.__version__)\n",
    "print(\"numpy version: \" + np.__version__)\n",
    "print(\"matplotlib version: \" + matplotlib.__version__)\n",
    "print(\"osgeo version: \" + osgeo.__version__)\n",
    "print(\"pandas version: \" + pandas.__version__+\"\\n\")\n",
    "\n",
    "Daymet_path = '/Users/lejoflores/data/daymet/' # Path to Daymet data on my drive\n",
    "Daymet_name = 'tmax_1980-2018.nc' # Name of the maximum daily temperature data \n",
    "Daymet_file = Daymet_path + Daymet_name # Full name of file with path\n",
    "\n",
    "# Coordinates of Wyoming Big Sage site in Reynolds Creek CZO\n",
    "lati = 43.167545\n",
    "loni = -116.713205\n"
   ]
  },
  {
   "cell_type": "markdown",
   "metadata": {},
   "source": [
    "### 2. Open the NetCDF dataset using xarray and print its characteristics"
   ]
  },
  {
   "cell_type": "code",
   "execution_count": 2,
   "metadata": {},
   "outputs": [
    {
     "name": "stdout",
     "output_type": "stream",
     "text": [
      "<xarray.Dataset>\n",
      "Dimensions:                  (nv: 2, time: 14235, x: 195, y: 238)\n",
      "Coordinates:\n",
      "  * x                        (x) float64 -1.411e+06 -1.41e+06 ... -1.217e+06\n",
      "  * y                        (y) float64 3.06e+05 3.05e+05 ... 7e+04 6.9e+04\n",
      "  * time                     (time) datetime64[ns] 1980-01-01T12:00:00 ... 2018-12-31T12:00:00\n",
      "    lat                      (y, x) float64 ...\n",
      "    lon                      (y, x) float64 ...\n",
      "Dimensions without coordinates: nv\n",
      "Data variables:\n",
      "    lambert_conformal_conic  int16 ...\n",
      "    yearday                  (time) int16 ...\n",
      "    tmax                     (time, y, x) float32 ...\n",
      "    time_bnds                (time, nv) datetime64[ns] ...\n",
      "Attributes:\n",
      "    tileid:            11912\n",
      "    start_year:        1980\n",
      "    source:            Daymet Software Version 3.0\n",
      "    Version_software:  Daymet Software Version 3.0\n",
      "    Version_data:      Daymet Data Version 3.0\n",
      "    Conventions:       CF-1.6\n",
      "    citation:          Please see http://daymet.ornl.gov/ for current Daymet ...\n",
      "    references:        Please see http://daymet.ornl.gov/ for current informa...\n"
     ]
    }
   ],
   "source": [
    "ds = xr.open_dataset(Daymet_file)\n",
    "print(ds)"
   ]
  },
  {
   "cell_type": "markdown",
   "metadata": {},
   "source": [
    "### 3. Now print characteristics of the dataset spatial projection"
   ]
  },
  {
   "cell_type": "code",
   "execution_count": 3,
   "metadata": {},
   "outputs": [
    {
     "name": "stdout",
     "output_type": "stream",
     "text": [
      "<xarray.DataArray 'lambert_conformal_conic' ()>\n",
      "array(-32767, dtype=int16)\n",
      "Attributes:\n",
      "    grid_mapping_name:              lambert_conformal_conic\n",
      "    longitude_of_central_meridian:  -100.0\n",
      "    latitude_of_projection_origin:  42.5\n",
      "    false_easting:                  0.0\n",
      "    false_northing:                 0.0\n",
      "    standard_parallel:              [25. 60.]\n"
     ]
    }
   ],
   "source": [
    "print(ds['lambert_conformal_conic'])"
   ]
  },
  {
   "cell_type": "markdown",
   "metadata": {},
   "source": [
    "### 4. Reproject the input point to the desired projection using GDAL"
   ]
  },
  {
   "cell_type": "code",
   "execution_count": 4,
   "metadata": {},
   "outputs": [],
   "source": [
    "InSR = osr.SpatialReference()\n",
    "InSR.ImportFromEPSG(4326) # WGS84/Geographic\n",
    "OutSR = osr.SpatialReference()\n",
    "OutSR.ImportFromEPSG(102009) # Lambert Conformal Conic North America \n",
    "\n",
    "# Note: these parameters have to be set because they are different from the default values\n",
    "OutSR.SetProjParm(\"Central_Meridian\", -100.0)\n",
    "OutSR.SetProjParm(\"Latitude_Of_Origin\", 42.5)\n",
    "OutSR.SetProjParm(\"Standard_Parallel_1\", 25.0)\n",
    "OutSR.SetProjParm(\"Standard_Parallel_2\", 60.0)\n",
    "\n",
    "Point = ogr.Geometry(ogr.wkbPoint)\n",
    "Point.AddPoint(loni,lati) \n",
    "Point.AssignSpatialReference(InSR) # Specify the spatial reference of the input Lat/long coords\n",
    "Point.TransformTo(OutSR) # Now transform it to projected coordinates \n",
    "\n",
    "# Get the projected x and y coordinates \n",
    "yi = Point.GetY()\n",
    "xi = Point.GetX()"
   ]
  },
  {
   "cell_type": "markdown",
   "metadata": {},
   "source": [
    "### 5. Use the `xarray.Dataset.interp()` to interpolate to the projected point\n",
    "Note, this creates a new `xarray` dataset that is interpolated to the x, y point input using a linear interpolation. Print the characteristics of this new dataset"
   ]
  },
  {
   "cell_type": "code",
   "execution_count": 5,
   "metadata": {},
   "outputs": [
    {
     "name": "stdout",
     "output_type": "stream",
     "text": [
      "<xarray.Dataset>\n",
      "Dimensions:                  (nv: 2, time: 14235)\n",
      "Coordinates:\n",
      "  * time                     (time) datetime64[ns] 1980-01-01T12:00:00 ... 2018-12-31T12:00:00\n",
      "    lat                      float64 43.17\n",
      "    lon                      float64 -116.7\n",
      "    x                        float64 -1.287e+06\n",
      "    y                        float64 2.001e+05\n",
      "Dimensions without coordinates: nv\n",
      "Data variables:\n",
      "    lambert_conformal_conic  int16 -32767\n",
      "    yearday                  (time) int16 0 1 2 3 4 5 ... 360 361 362 363 364\n",
      "    tmax                     (time) float64 7.956 5.456 4.028 ... 2.997 -2.414\n",
      "    time_bnds                (time, nv) datetime64[ns] 1980-01-01 ... 2019-01-01\n",
      "Attributes:\n",
      "    tileid:            11912\n",
      "    start_year:        1980\n",
      "    source:            Daymet Software Version 3.0\n",
      "    Version_software:  Daymet Software Version 3.0\n",
      "    Version_data:      Daymet Data Version 3.0\n",
      "    Conventions:       CF-1.6\n",
      "    citation:          Please see http://daymet.ornl.gov/ for current Daymet ...\n",
      "    references:        Please see http://daymet.ornl.gov/ for current informa...\n"
     ]
    }
   ],
   "source": [
    "dsloc = ds.interp(x=xi, y=yi)\n",
    "print(dsloc)"
   ]
  },
  {
   "cell_type": "markdown",
   "metadata": {},
   "source": [
    "### 6. Get the interpolated time series of temperature at the point and plot"
   ]
  },
  {
   "cell_type": "code",
   "execution_count": 6,
   "metadata": {},
   "outputs": [],
   "source": [
    "Tmax = dsloc['tmax'].values\n",
    "time = dsloc['time'].values\n",
    "\n",
    "register_matplotlib_converters() # Needed to avoid a matplotlib warning\n",
    "\n",
    "plt.figure(figsize=(10,6))\n",
    "plt.rcParams.update({'font.size': 12})\n",
    "plt.plot(time, Tmax)\n",
    "plt.title('Daily Maximum Air Temperature at Wyoming Big Sage Site from Daymet')\n",
    "plt.xlabel('Time')\n",
    "plt.ylabel('$T_{max} {}^{\\circ}C$')\n",
    "plt.show()"
   ]
  },
  {
   "cell_type": "code",
   "execution_count": null,
   "metadata": {},
   "outputs": [],
   "source": []
  }
 ],
 "metadata": {
  "kernelspec": {
   "display_name": "Python 3",
   "language": "python",
   "name": "python3"
  },
  "language_info": {
   "codemirror_mode": {
    "name": "ipython",
    "version": 3
   },
   "file_extension": ".py",
   "mimetype": "text/x-python",
   "name": "python",
   "nbconvert_exporter": "python",
   "pygments_lexer": "ipython3",
   "version": "3.7.3"
  }
 },
 "nbformat": 4,
 "nbformat_minor": 2
}
